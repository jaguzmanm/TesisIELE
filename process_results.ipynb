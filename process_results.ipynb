{
 "cells": [
  {
   "cell_type": "code",
   "execution_count": 1,
   "id": "b058889e-0fa6-423c-97c9-ace5db0b9d89",
   "metadata": {
    "tags": []
   },
   "outputs": [],
   "source": [
    "import pandas as pd\n",
    "import numpy as np\n",
    "import matplotlib.pyplot as plt\n",
    "from random import random"
   ]
  },
  {
   "cell_type": "markdown",
   "id": "671b39d5-2ad5-422d-a074-637a0093de80",
   "metadata": {
    "tags": []
   },
   "source": [
    "## Resultados Nivel 1"
   ]
  },
  {
   "cell_type": "code",
   "execution_count": 2,
   "id": "fc4938a5-6fa6-4d58-bc70-835b1111cc0e",
   "metadata": {
    "tags": []
   },
   "outputs": [
    {
     "data": {
      "text/html": [
       "<div>\n",
       "<style scoped>\n",
       "    .dataframe tbody tr th:only-of-type {\n",
       "        vertical-align: middle;\n",
       "    }\n",
       "\n",
       "    .dataframe tbody tr th {\n",
       "        vertical-align: top;\n",
       "    }\n",
       "\n",
       "    .dataframe thead th {\n",
       "        text-align: right;\n",
       "    }\n",
       "</style>\n",
       "<table border=\"1\" class=\"dataframe\">\n",
       "  <thead>\n",
       "    <tr style=\"text-align: right;\">\n",
       "      <th></th>\n",
       "      <th>reward</th>\n",
       "      <th>duration</th>\n",
       "      <th>remaining_lives</th>\n",
       "      <th>final_state</th>\n",
       "    </tr>\n",
       "  </thead>\n",
       "  <tbody>\n",
       "    <tr>\n",
       "      <th>0</th>\n",
       "      <td>5033.0</td>\n",
       "      <td>897.0</td>\n",
       "      <td>3.0</td>\n",
       "      <td>3.0</td>\n",
       "    </tr>\n",
       "    <tr>\n",
       "      <th>1</th>\n",
       "      <td>5033.0</td>\n",
       "      <td>897.0</td>\n",
       "      <td>3.0</td>\n",
       "      <td>3.0</td>\n",
       "    </tr>\n",
       "    <tr>\n",
       "      <th>2</th>\n",
       "      <td>5033.0</td>\n",
       "      <td>897.0</td>\n",
       "      <td>3.0</td>\n",
       "      <td>3.0</td>\n",
       "    </tr>\n",
       "    <tr>\n",
       "      <th>3</th>\n",
       "      <td>5033.0</td>\n",
       "      <td>897.0</td>\n",
       "      <td>3.0</td>\n",
       "      <td>3.0</td>\n",
       "    </tr>\n",
       "    <tr>\n",
       "      <th>4</th>\n",
       "      <td>5033.0</td>\n",
       "      <td>897.0</td>\n",
       "      <td>3.0</td>\n",
       "      <td>3.0</td>\n",
       "    </tr>\n",
       "    <tr>\n",
       "      <th>...</th>\n",
       "      <td>...</td>\n",
       "      <td>...</td>\n",
       "      <td>...</td>\n",
       "      <td>...</td>\n",
       "    </tr>\n",
       "    <tr>\n",
       "      <th>995</th>\n",
       "      <td>5033.0</td>\n",
       "      <td>897.0</td>\n",
       "      <td>3.0</td>\n",
       "      <td>3.0</td>\n",
       "    </tr>\n",
       "    <tr>\n",
       "      <th>996</th>\n",
       "      <td>5033.0</td>\n",
       "      <td>897.0</td>\n",
       "      <td>3.0</td>\n",
       "      <td>3.0</td>\n",
       "    </tr>\n",
       "    <tr>\n",
       "      <th>997</th>\n",
       "      <td>5033.0</td>\n",
       "      <td>897.0</td>\n",
       "      <td>3.0</td>\n",
       "      <td>3.0</td>\n",
       "    </tr>\n",
       "    <tr>\n",
       "      <th>998</th>\n",
       "      <td>5033.0</td>\n",
       "      <td>897.0</td>\n",
       "      <td>3.0</td>\n",
       "      <td>3.0</td>\n",
       "    </tr>\n",
       "    <tr>\n",
       "      <th>999</th>\n",
       "      <td>5033.0</td>\n",
       "      <td>897.0</td>\n",
       "      <td>3.0</td>\n",
       "      <td>3.0</td>\n",
       "    </tr>\n",
       "  </tbody>\n",
       "</table>\n",
       "<p>1000 rows × 4 columns</p>\n",
       "</div>"
      ],
      "text/plain": [
       "     reward  duration  remaining_lives  final_state\n",
       "0    5033.0     897.0              3.0          3.0\n",
       "1    5033.0     897.0              3.0          3.0\n",
       "2    5033.0     897.0              3.0          3.0\n",
       "3    5033.0     897.0              3.0          3.0\n",
       "4    5033.0     897.0              3.0          3.0\n",
       "..      ...       ...              ...          ...\n",
       "995  5033.0     897.0              3.0          3.0\n",
       "996  5033.0     897.0              3.0          3.0\n",
       "997  5033.0     897.0              3.0          3.0\n",
       "998  5033.0     897.0              3.0          3.0\n",
       "999  5033.0     897.0              3.0          3.0\n",
       "\n",
       "[1000 rows x 4 columns]"
      ]
     },
     "execution_count": 2,
     "metadata": {},
     "output_type": "execute_result"
    }
   ],
   "source": [
    "results_lvl1 = pd.read_csv(\"tests_results/test_lvl_1.csv\")\n",
    "results_lvl1 = results_lvl1.drop(\"Unnamed: 0\", axis=1)\n",
    "results_lvl1"
   ]
  },
  {
   "cell_type": "code",
   "execution_count": 3,
   "id": "9f3b5646-9514-4314-808d-dce69f4f5cb0",
   "metadata": {},
   "outputs": [
    {
     "name": "stdout",
     "output_type": "stream",
     "text": [
      "3.0    1000\n",
      "Name: final_state, dtype: int64\n"
     ]
    },
    {
     "data": {
      "image/png": "[encoded data removed]",
      "text/plain": [
       "<Figure size 432x288 with 1 Axes>"
      ]
     },
     "metadata": {
      "needs_background": "light"
     },
     "output_type": "display_data"
    }
   ],
   "source": [
    "aux = results_lvl1['final_state'].value_counts()\n",
    "print(aux)\n",
    "\n",
    "plt.grid()\n",
    "plt.bar(aux.index, aux.values, zorder=3)\n",
    " \n",
    "# Add title and axis names\n",
    "plt.title('Resumen pruebas nivel 1')\n",
    "plt.xlabel('Estado final')\n",
    "plt.ylabel('Cantidad de episodios')\n",
    " \n",
    "# Create names on the x axis\n",
    "plt.xticks(aux.index)\n",
    " \n",
    "# Show graph\n",
    "plt.show()"
   ]
  },
  {
   "cell_type": "code",
   "execution_count": 4,
   "id": "ea5527fb-8c21-4c45-bb4c-d802b479095a",
   "metadata": {},
   "outputs": [
    {
     "data": {
      "text/html": [
       "<div>\n",
       "<style scoped>\n",
       "    .dataframe tbody tr th:only-of-type {\n",
       "        vertical-align: middle;\n",
       "    }\n",
       "\n",
       "    .dataframe tbody tr th {\n",
       "        vertical-align: top;\n",
       "    }\n",
       "\n",
       "    .dataframe thead th {\n",
       "        text-align: right;\n",
       "    }\n",
       "</style>\n",
       "<table border=\"1\" class=\"dataframe\">\n",
       "  <thead>\n",
       "    <tr style=\"text-align: right;\">\n",
       "      <th></th>\n",
       "      <th>reward</th>\n",
       "      <th>duration</th>\n",
       "      <th>remaining_lives</th>\n",
       "    </tr>\n",
       "    <tr>\n",
       "      <th>final_state</th>\n",
       "      <th></th>\n",
       "      <th></th>\n",
       "      <th></th>\n",
       "    </tr>\n",
       "  </thead>\n",
       "  <tbody>\n",
       "    <tr>\n",
       "      <th>3.0</th>\n",
       "      <td>5033.0</td>\n",
       "      <td>897.0</td>\n",
       "      <td>3.0</td>\n",
       "    </tr>\n",
       "  </tbody>\n",
       "</table>\n",
       "</div>"
      ],
      "text/plain": [
       "             reward  duration  remaining_lives\n",
       "final_state                                   \n",
       "3.0          5033.0     897.0              3.0"
      ]
     },
     "execution_count": 4,
     "metadata": {},
     "output_type": "execute_result"
    }
   ],
   "source": [
    "results_lvl1.groupby('final_state').mean()"
   ]
  },
  {
   "cell_type": "markdown",
   "id": "0eadd4d9-383d-4696-9e25-55b420bd04fd",
   "metadata": {
    "tags": []
   },
   "source": [
    "## Resultados Nivel 2"
   ]
  },
  {
   "cell_type": "code",
   "execution_count": 5,
   "id": "cb1ed3ef-2e16-4a72-b11e-2d0ba363371a",
   "metadata": {
    "tags": []
   },
   "outputs": [
    {
     "data": {
      "text/html": [
       "<div>\n",
       "<style scoped>\n",
       "    .dataframe tbody tr th:only-of-type {\n",
       "        vertical-align: middle;\n",
       "    }\n",
       "\n",
       "    .dataframe tbody tr th {\n",
       "        vertical-align: top;\n",
       "    }\n",
       "\n",
       "    .dataframe thead th {\n",
       "        text-align: right;\n",
       "    }\n",
       "</style>\n",
       "<table border=\"1\" class=\"dataframe\">\n",
       "  <thead>\n",
       "    <tr style=\"text-align: right;\">\n",
       "      <th></th>\n",
       "      <th>reward</th>\n",
       "      <th>duration</th>\n",
       "      <th>remaining_lives</th>\n",
       "      <th>final_state</th>\n",
       "    </tr>\n",
       "  </thead>\n",
       "  <tbody>\n",
       "    <tr>\n",
       "      <th>0</th>\n",
       "      <td>570.0</td>\n",
       "      <td>745.0</td>\n",
       "      <td>0.0</td>\n",
       "      <td>1.0</td>\n",
       "    </tr>\n",
       "    <tr>\n",
       "      <th>1</th>\n",
       "      <td>5066.0</td>\n",
       "      <td>864.0</td>\n",
       "      <td>3.0</td>\n",
       "      <td>3.0</td>\n",
       "    </tr>\n",
       "    <tr>\n",
       "      <th>2</th>\n",
       "      <td>3066.0</td>\n",
       "      <td>864.0</td>\n",
       "      <td>1.0</td>\n",
       "      <td>3.0</td>\n",
       "    </tr>\n",
       "    <tr>\n",
       "      <th>3</th>\n",
       "      <td>4114.0</td>\n",
       "      <td>816.0</td>\n",
       "      <td>2.0</td>\n",
       "      <td>3.0</td>\n",
       "    </tr>\n",
       "    <tr>\n",
       "      <th>4</th>\n",
       "      <td>4002.0</td>\n",
       "      <td>928.0</td>\n",
       "      <td>2.0</td>\n",
       "      <td>3.0</td>\n",
       "    </tr>\n",
       "    <tr>\n",
       "      <th>...</th>\n",
       "      <td>...</td>\n",
       "      <td>...</td>\n",
       "      <td>...</td>\n",
       "      <td>...</td>\n",
       "    </tr>\n",
       "    <tr>\n",
       "      <th>995</th>\n",
       "      <td>3034.0</td>\n",
       "      <td>896.0</td>\n",
       "      <td>1.0</td>\n",
       "      <td>3.0</td>\n",
       "    </tr>\n",
       "    <tr>\n",
       "      <th>996</th>\n",
       "      <td>4002.0</td>\n",
       "      <td>928.0</td>\n",
       "      <td>2.0</td>\n",
       "      <td>3.0</td>\n",
       "    </tr>\n",
       "    <tr>\n",
       "      <th>997</th>\n",
       "      <td>2778.0</td>\n",
       "      <td>1152.0</td>\n",
       "      <td>1.0</td>\n",
       "      <td>3.0</td>\n",
       "    </tr>\n",
       "    <tr>\n",
       "      <th>998</th>\n",
       "      <td>-815.0</td>\n",
       "      <td>436.0</td>\n",
       "      <td>0.0</td>\n",
       "      <td>1.0</td>\n",
       "    </tr>\n",
       "    <tr>\n",
       "      <th>999</th>\n",
       "      <td>4034.0</td>\n",
       "      <td>896.0</td>\n",
       "      <td>2.0</td>\n",
       "      <td>3.0</td>\n",
       "    </tr>\n",
       "  </tbody>\n",
       "</table>\n",
       "<p>1000 rows × 4 columns</p>\n",
       "</div>"
      ],
      "text/plain": [
       "     reward  duration  remaining_lives  final_state\n",
       "0     570.0     745.0              0.0          1.0\n",
       "1    5066.0     864.0              3.0          3.0\n",
       "2    3066.0     864.0              1.0          3.0\n",
       "3    4114.0     816.0              2.0          3.0\n",
       "4    4002.0     928.0              2.0          3.0\n",
       "..      ...       ...              ...          ...\n",
       "995  3034.0     896.0              1.0          3.0\n",
       "996  4002.0     928.0              2.0          3.0\n",
       "997  2778.0    1152.0              1.0          3.0\n",
       "998  -815.0     436.0              0.0          1.0\n",
       "999  4034.0     896.0              2.0          3.0\n",
       "\n",
       "[1000 rows x 4 columns]"
      ]
     },
     "execution_count": 5,
     "metadata": {},
     "output_type": "execute_result"
    }
   ],
   "source": [
    "results_lvl2 = pd.read_csv(\"tests_results/test_lvl_2.csv\")\n",
    "results_lvl2 = results_lvl2.drop(\"Unnamed: 0\", axis=1)\n",
    "results_lvl2"
   ]
  },
  {
   "cell_type": "code",
   "execution_count": 6,
   "id": "faf2a331-48c0-4f3d-bc5b-6e54ad5a0b34",
   "metadata": {},
   "outputs": [
    {
     "name": "stdout",
     "output_type": "stream",
     "text": [
      "3.0    897\n",
      "1.0     82\n",
      "2.0     21\n",
      "Name: final_state, dtype: int64\n"
     ]
    },
    {
     "data": {
      "image/png": "[encoded data removed]",
      "text/plain": [
       "<Figure size 432x288 with 1 Axes>"
      ]
     },
     "metadata": {
      "needs_background": "light"
     },
     "output_type": "display_data"
    }
   ],
   "source": [
    "aux = results_lvl2['final_state'].value_counts()\n",
    "print(aux)\n",
    "\n",
    "plt.grid()\n",
    "plt.bar(aux.index, aux.values, zorder=3)\n",
    " \n",
    "# Add title and axis names\n",
    "plt.title('Resumen pruebas nivel 2')\n",
    "plt.xlabel('Estado final')\n",
    "plt.ylabel('Cantidad de episodios')\n",
    " \n",
    "# Create names on the x axis\n",
    "plt.xticks(aux.index)\n",
    " \n",
    "# Show graph\n",
    "plt.show()"
   ]
  },
  {
   "cell_type": "code",
   "execution_count": 7,
   "id": "90b744f8-b0f8-47cc-87b2-e051c2280d4b",
   "metadata": {},
   "outputs": [
    {
     "data": {
      "text/html": [
       "<div>\n",
       "<style scoped>\n",
       "    .dataframe tbody tr th:only-of-type {\n",
       "        vertical-align: middle;\n",
       "    }\n",
       "\n",
       "    .dataframe tbody tr th {\n",
       "        vertical-align: top;\n",
       "    }\n",
       "\n",
       "    .dataframe thead th {\n",
       "        text-align: right;\n",
       "    }\n",
       "</style>\n",
       "<table border=\"1\" class=\"dataframe\">\n",
       "  <thead>\n",
       "    <tr style=\"text-align: right;\">\n",
       "      <th></th>\n",
       "      <th>reward</th>\n",
       "      <th>duration</th>\n",
       "      <th>remaining_lives</th>\n",
       "    </tr>\n",
       "    <tr>\n",
       "      <th>final_state</th>\n",
       "      <th></th>\n",
       "      <th></th>\n",
       "      <th></th>\n",
       "    </tr>\n",
       "  </thead>\n",
       "  <tbody>\n",
       "    <tr>\n",
       "      <th>1.0</th>\n",
       "      <td>274.695122</td>\n",
       "      <td>630.329268</td>\n",
       "      <td>0.000000</td>\n",
       "    </tr>\n",
       "    <tr>\n",
       "      <th>2.0</th>\n",
       "      <td>1943.809524</td>\n",
       "      <td>1200.000000</td>\n",
       "      <td>1.571429</td>\n",
       "    </tr>\n",
       "    <tr>\n",
       "      <th>3.0</th>\n",
       "      <td>3657.564103</td>\n",
       "      <td>942.469342</td>\n",
       "      <td>1.680045</td>\n",
       "    </tr>\n",
       "  </tbody>\n",
       "</table>\n",
       "</div>"
      ],
      "text/plain": [
       "                  reward     duration  remaining_lives\n",
       "final_state                                           \n",
       "1.0           274.695122   630.329268         0.000000\n",
       "2.0          1943.809524  1200.000000         1.571429\n",
       "3.0          3657.564103   942.469342         1.680045"
      ]
     },
     "execution_count": 7,
     "metadata": {},
     "output_type": "execute_result"
    }
   ],
   "source": [
    "results_lvl2.groupby('final_state').mean()"
   ]
  },
  {
   "cell_type": "markdown",
   "id": "198b59e2-28cf-40b4-ad99-79297b807195",
   "metadata": {},
   "source": [
    "## Resultados Nivel 3"
   ]
  },
  {
   "cell_type": "code",
   "execution_count": 8,
   "id": "d8e021ae-1cd0-4102-b9a7-f0b5b85fd785",
   "metadata": {
    "tags": []
   },
   "outputs": [
    {
     "data": {
      "text/html": [
       "<div>\n",
       "<style scoped>\n",
       "    .dataframe tbody tr th:only-of-type {\n",
       "        vertical-align: middle;\n",
       "    }\n",
       "\n",
       "    .dataframe tbody tr th {\n",
       "        vertical-align: top;\n",
       "    }\n",
       "\n",
       "    .dataframe thead th {\n",
       "        text-align: right;\n",
       "    }\n",
       "</style>\n",
       "<table border=\"1\" class=\"dataframe\">\n",
       "  <thead>\n",
       "    <tr style=\"text-align: right;\">\n",
       "      <th></th>\n",
       "      <th>reward</th>\n",
       "      <th>duration</th>\n",
       "      <th>remaining_lives</th>\n",
       "      <th>final_state</th>\n",
       "    </tr>\n",
       "  </thead>\n",
       "  <tbody>\n",
       "    <tr>\n",
       "      <th>0</th>\n",
       "      <td>2954.0</td>\n",
       "      <td>976.0</td>\n",
       "      <td>1.0</td>\n",
       "      <td>3.0</td>\n",
       "    </tr>\n",
       "    <tr>\n",
       "      <th>1</th>\n",
       "      <td>930.0</td>\n",
       "      <td>885.0</td>\n",
       "      <td>0.0</td>\n",
       "      <td>1.0</td>\n",
       "    </tr>\n",
       "    <tr>\n",
       "      <th>2</th>\n",
       "      <td>-800.0</td>\n",
       "      <td>398.0</td>\n",
       "      <td>0.0</td>\n",
       "      <td>1.0</td>\n",
       "    </tr>\n",
       "    <tr>\n",
       "      <th>3</th>\n",
       "      <td>-770.0</td>\n",
       "      <td>402.0</td>\n",
       "      <td>0.0</td>\n",
       "      <td>1.0</td>\n",
       "    </tr>\n",
       "    <tr>\n",
       "      <th>4</th>\n",
       "      <td>480.0</td>\n",
       "      <td>648.0</td>\n",
       "      <td>0.0</td>\n",
       "      <td>1.0</td>\n",
       "    </tr>\n",
       "    <tr>\n",
       "      <th>...</th>\n",
       "      <td>...</td>\n",
       "      <td>...</td>\n",
       "      <td>...</td>\n",
       "      <td>...</td>\n",
       "    </tr>\n",
       "    <tr>\n",
       "      <th>995</th>\n",
       "      <td>2954.0</td>\n",
       "      <td>976.0</td>\n",
       "      <td>1.0</td>\n",
       "      <td>3.0</td>\n",
       "    </tr>\n",
       "    <tr>\n",
       "      <th>996</th>\n",
       "      <td>2923.0</td>\n",
       "      <td>927.0</td>\n",
       "      <td>1.0</td>\n",
       "      <td>3.0</td>\n",
       "    </tr>\n",
       "    <tr>\n",
       "      <th>997</th>\n",
       "      <td>3040.0</td>\n",
       "      <td>835.0</td>\n",
       "      <td>1.0</td>\n",
       "      <td>3.0</td>\n",
       "    </tr>\n",
       "    <tr>\n",
       "      <th>998</th>\n",
       "      <td>2921.0</td>\n",
       "      <td>1009.0</td>\n",
       "      <td>1.0</td>\n",
       "      <td>3.0</td>\n",
       "    </tr>\n",
       "    <tr>\n",
       "      <th>999</th>\n",
       "      <td>2967.0</td>\n",
       "      <td>883.0</td>\n",
       "      <td>1.0</td>\n",
       "      <td>3.0</td>\n",
       "    </tr>\n",
       "  </tbody>\n",
       "</table>\n",
       "<p>1000 rows × 4 columns</p>\n",
       "</div>"
      ],
      "text/plain": [
       "     reward  duration  remaining_lives  final_state\n",
       "0    2954.0     976.0              1.0          3.0\n",
       "1     930.0     885.0              0.0          1.0\n",
       "2    -800.0     398.0              0.0          1.0\n",
       "3    -770.0     402.0              0.0          1.0\n",
       "4     480.0     648.0              0.0          1.0\n",
       "..      ...       ...              ...          ...\n",
       "995  2954.0     976.0              1.0          3.0\n",
       "996  2923.0     927.0              1.0          3.0\n",
       "997  3040.0     835.0              1.0          3.0\n",
       "998  2921.0    1009.0              1.0          3.0\n",
       "999  2967.0     883.0              1.0          3.0\n",
       "\n",
       "[1000 rows x 4 columns]"
      ]
     },
     "execution_count": 8,
     "metadata": {},
     "output_type": "execute_result"
    }
   ],
   "source": [
    "results_lvl3 = pd.read_csv(\"tests_results/test_lvl_3.csv\")\n",
    "results_lvl3 = results_lvl3.drop(\"Unnamed: 0\", axis=1)\n",
    "results_lvl3"
   ]
  },
  {
   "cell_type": "code",
   "execution_count": 9,
   "id": "c5b82a27-f535-4eac-9ff1-4b0d41a6e31f",
   "metadata": {},
   "outputs": [
    {
     "name": "stdout",
     "output_type": "stream",
     "text": [
      "3.0    509\n",
      "1.0    473\n",
      "2.0     18\n",
      "Name: final_state, dtype: int64\n"
     ]
    },
    {
     "data": {
      "image/png": "[encoded data removed]",
      "text/plain": [
       "<Figure size 432x288 with 1 Axes>"
      ]
     },
     "metadata": {
      "needs_background": "light"
     },
     "output_type": "display_data"
    }
   ],
   "source": [
    "aux = results_lvl3['final_state'].value_counts()\n",
    "print(aux)\n",
    "\n",
    "plt.grid()\n",
    "plt.bar(aux.index, aux.values, zorder=3)\n",
    " \n",
    "# Add title and axis names\n",
    "plt.title('Resumen pruebas nivel 3')\n",
    "plt.xlabel('Estado final')\n",
    "plt.ylabel('Cantidad de episodios')\n",
    " \n",
    "# Create names on the x axis\n",
    "plt.xticks(aux.index)\n",
    "# Show graph\n",
    "plt.show()"
   ]
  },
  {
   "cell_type": "code",
   "execution_count": 10,
   "id": "c506dce6-bca7-42b9-ba89-b57b37a7f390",
   "metadata": {},
   "outputs": [
    {
     "data": {
      "text/html": [
       "<div>\n",
       "<style scoped>\n",
       "    .dataframe tbody tr th:only-of-type {\n",
       "        vertical-align: middle;\n",
       "    }\n",
       "\n",
       "    .dataframe tbody tr th {\n",
       "        vertical-align: top;\n",
       "    }\n",
       "\n",
       "    .dataframe thead th {\n",
       "        text-align: right;\n",
       "    }\n",
       "</style>\n",
       "<table border=\"1\" class=\"dataframe\">\n",
       "  <thead>\n",
       "    <tr style=\"text-align: right;\">\n",
       "      <th></th>\n",
       "      <th>reward</th>\n",
       "      <th>duration</th>\n",
       "      <th>remaining_lives</th>\n",
       "    </tr>\n",
       "    <tr>\n",
       "      <th>final_state</th>\n",
       "      <th></th>\n",
       "      <th></th>\n",
       "      <th></th>\n",
       "    </tr>\n",
       "  </thead>\n",
       "  <tbody>\n",
       "    <tr>\n",
       "      <th>1.0</th>\n",
       "      <td>-69.735729</td>\n",
       "      <td>563.790698</td>\n",
       "      <td>-0.027484</td>\n",
       "    </tr>\n",
       "    <tr>\n",
       "      <th>2.0</th>\n",
       "      <td>1703.333333</td>\n",
       "      <td>1200.000000</td>\n",
       "      <td>1.333333</td>\n",
       "    </tr>\n",
       "    <tr>\n",
       "      <th>3.0</th>\n",
       "      <td>3296.827112</td>\n",
       "      <td>950.559921</td>\n",
       "      <td>1.328094</td>\n",
       "    </tr>\n",
       "  </tbody>\n",
       "</table>\n",
       "</div>"
      ],
      "text/plain": [
       "                  reward     duration  remaining_lives\n",
       "final_state                                           \n",
       "1.0           -69.735729   563.790698        -0.027484\n",
       "2.0          1703.333333  1200.000000         1.333333\n",
       "3.0          3296.827112   950.559921         1.328094"
      ]
     },
     "execution_count": 10,
     "metadata": {},
     "output_type": "execute_result"
    }
   ],
   "source": [
    "results_lvl3.groupby('final_state').mean()"
   ]
  },
  {
   "cell_type": "markdown",
   "id": "e1744f4e-0487-44f4-9c11-e71b6d1841c3",
   "metadata": {},
   "source": [
    "## Resultados Nivel 4"
   ]
  },
  {
   "cell_type": "code",
   "execution_count": 11,
   "id": "9cb7c907-7e82-4e39-91d5-a86c8a82bda8",
   "metadata": {
    "tags": []
   },
   "outputs": [
    {
     "data": {
      "text/html": [
       "<div>\n",
       "<style scoped>\n",
       "    .dataframe tbody tr th:only-of-type {\n",
       "        vertical-align: middle;\n",
       "    }\n",
       "\n",
       "    .dataframe tbody tr th {\n",
       "        vertical-align: top;\n",
       "    }\n",
       "\n",
       "    .dataframe thead th {\n",
       "        text-align: right;\n",
       "    }\n",
       "</style>\n",
       "<table border=\"1\" class=\"dataframe\">\n",
       "  <thead>\n",
       "    <tr style=\"text-align: right;\">\n",
       "      <th></th>\n",
       "      <th>reward</th>\n",
       "      <th>duration</th>\n",
       "      <th>remaining_lives</th>\n",
       "      <th>final_state</th>\n",
       "    </tr>\n",
       "  </thead>\n",
       "  <tbody>\n",
       "    <tr>\n",
       "      <th>0</th>\n",
       "      <td>-695.0</td>\n",
       "      <td>488.0</td>\n",
       "      <td>0.0</td>\n",
       "      <td>1.0</td>\n",
       "    </tr>\n",
       "    <tr>\n",
       "      <th>1</th>\n",
       "      <td>750.0</td>\n",
       "      <td>876.0</td>\n",
       "      <td>0.0</td>\n",
       "      <td>1.0</td>\n",
       "    </tr>\n",
       "    <tr>\n",
       "      <th>2</th>\n",
       "      <td>330.0</td>\n",
       "      <td>678.0</td>\n",
       "      <td>0.0</td>\n",
       "      <td>1.0</td>\n",
       "    </tr>\n",
       "    <tr>\n",
       "      <th>3</th>\n",
       "      <td>-2005.0</td>\n",
       "      <td>192.0</td>\n",
       "      <td>0.0</td>\n",
       "      <td>1.0</td>\n",
       "    </tr>\n",
       "    <tr>\n",
       "      <th>4</th>\n",
       "      <td>3001.0</td>\n",
       "      <td>899.0</td>\n",
       "      <td>1.0</td>\n",
       "      <td>3.0</td>\n",
       "    </tr>\n",
       "    <tr>\n",
       "      <th>...</th>\n",
       "      <td>...</td>\n",
       "      <td>...</td>\n",
       "      <td>...</td>\n",
       "      <td>...</td>\n",
       "    </tr>\n",
       "    <tr>\n",
       "      <th>995</th>\n",
       "      <td>-795.0</td>\n",
       "      <td>383.0</td>\n",
       "      <td>0.0</td>\n",
       "      <td>1.0</td>\n",
       "    </tr>\n",
       "    <tr>\n",
       "      <th>996</th>\n",
       "      <td>3761.0</td>\n",
       "      <td>1139.0</td>\n",
       "      <td>2.0</td>\n",
       "      <td>3.0</td>\n",
       "    </tr>\n",
       "    <tr>\n",
       "      <th>997</th>\n",
       "      <td>2809.0</td>\n",
       "      <td>1091.0</td>\n",
       "      <td>1.0</td>\n",
       "      <td>3.0</td>\n",
       "    </tr>\n",
       "    <tr>\n",
       "      <th>998</th>\n",
       "      <td>-2085.0</td>\n",
       "      <td>217.0</td>\n",
       "      <td>0.0</td>\n",
       "      <td>1.0</td>\n",
       "    </tr>\n",
       "    <tr>\n",
       "      <th>999</th>\n",
       "      <td>-735.0</td>\n",
       "      <td>373.0</td>\n",
       "      <td>0.0</td>\n",
       "      <td>1.0</td>\n",
       "    </tr>\n",
       "  </tbody>\n",
       "</table>\n",
       "<p>1000 rows × 4 columns</p>\n",
       "</div>"
      ],
      "text/plain": [
       "     reward  duration  remaining_lives  final_state\n",
       "0    -695.0     488.0              0.0          1.0\n",
       "1     750.0     876.0              0.0          1.0\n",
       "2     330.0     678.0              0.0          1.0\n",
       "3   -2005.0     192.0              0.0          1.0\n",
       "4    3001.0     899.0              1.0          3.0\n",
       "..      ...       ...              ...          ...\n",
       "995  -795.0     383.0              0.0          1.0\n",
       "996  3761.0    1139.0              2.0          3.0\n",
       "997  2809.0    1091.0              1.0          3.0\n",
       "998 -2085.0     217.0              0.0          1.0\n",
       "999  -735.0     373.0              0.0          1.0\n",
       "\n",
       "[1000 rows x 4 columns]"
      ]
     },
     "execution_count": 11,
     "metadata": {},
     "output_type": "execute_result"
    }
   ],
   "source": [
    "results_lvl4 = pd.read_csv(\"tests_results/test_lvl_4.csv\")\n",
    "results_lvl4 = results_lvl4.drop(\"Unnamed: 0\", axis=1)\n",
    "results_lvl4"
   ]
  },
  {
   "cell_type": "code",
   "execution_count": 12,
   "id": "081e741d-070e-47f3-b633-2c23f62a9402",
   "metadata": {},
   "outputs": [
    {
     "name": "stdout",
     "output_type": "stream",
     "text": [
      "1.0    840\n",
      "3.0    155\n",
      "2.0      5\n",
      "Name: final_state, dtype: int64\n"
     ]
    },
    {
     "data": {
      "image/png": "[encoded data removed]",
      "text/plain": [
       "<Figure size 432x288 with 1 Axes>"
      ]
     },
     "metadata": {
      "needs_background": "light"
     },
     "output_type": "display_data"
    }
   ],
   "source": [
    "aux = results_lvl4['final_state'].value_counts()\n",
    "print(aux)\n",
    "\n",
    "plt.grid()\n",
    "plt.bar(aux.index, aux.values, zorder=3)\n",
    " \n",
    "# Add title and axis names\n",
    "plt.title('Resumen pruebas nivel 4')\n",
    "plt.xlabel('Estado final')\n",
    "plt.ylabel('Cantidad de episodios')\n",
    " \n",
    "# Create names on the x axis\n",
    "plt.xticks(aux.index)\n",
    " \n",
    "# Show graph\n",
    "plt.show()"
   ]
  },
  {
   "cell_type": "code",
   "execution_count": 13,
   "id": "84cbcb40-53cb-4d16-965b-f6654ee0c184",
   "metadata": {},
   "outputs": [
    {
     "data": {
      "text/html": [
       "<div>\n",
       "<style scoped>\n",
       "    .dataframe tbody tr th:only-of-type {\n",
       "        vertical-align: middle;\n",
       "    }\n",
       "\n",
       "    .dataframe tbody tr th {\n",
       "        vertical-align: top;\n",
       "    }\n",
       "\n",
       "    .dataframe thead th {\n",
       "        text-align: right;\n",
       "    }\n",
       "</style>\n",
       "<table border=\"1\" class=\"dataframe\">\n",
       "  <thead>\n",
       "    <tr style=\"text-align: right;\">\n",
       "      <th></th>\n",
       "      <th>reward</th>\n",
       "      <th>duration</th>\n",
       "      <th>remaining_lives</th>\n",
       "    </tr>\n",
       "    <tr>\n",
       "      <th>final_state</th>\n",
       "      <th></th>\n",
       "      <th></th>\n",
       "      <th></th>\n",
       "    </tr>\n",
       "  </thead>\n",
       "  <tbody>\n",
       "    <tr>\n",
       "      <th>1.0</th>\n",
       "      <td>-378.886905</td>\n",
       "      <td>533.608333</td>\n",
       "      <td>-0.035714</td>\n",
       "    </tr>\n",
       "    <tr>\n",
       "      <th>2.0</th>\n",
       "      <td>1388.000000</td>\n",
       "      <td>1200.000000</td>\n",
       "      <td>1.000000</td>\n",
       "    </tr>\n",
       "    <tr>\n",
       "      <th>3.0</th>\n",
       "      <td>3283.858065</td>\n",
       "      <td>966.980645</td>\n",
       "      <td>1.348387</td>\n",
       "    </tr>\n",
       "  </tbody>\n",
       "</table>\n",
       "</div>"
      ],
      "text/plain": [
       "                  reward     duration  remaining_lives\n",
       "final_state                                           \n",
       "1.0          -378.886905   533.608333        -0.035714\n",
       "2.0          1388.000000  1200.000000         1.000000\n",
       "3.0          3283.858065   966.980645         1.348387"
      ]
     },
     "execution_count": 13,
     "metadata": {},
     "output_type": "execute_result"
    }
   ],
   "source": [
    "results_lvl4.groupby('final_state').mean()"
   ]
  }
 ],
 "metadata": {
  "kernelspec": {
   "display_name": "Python 3 (ipykernel)",
   "language": "python",
   "name": "python3"
  },
  "language_info": {
   "codemirror_mode": {
    "name": "ipython",
    "version": 3
   },
   "file_extension": ".py",
   "mimetype": "text/x-python",
   "name": "python",
   "nbconvert_exporter": "python",
   "pygments_lexer": "ipython3",
   "version": "3.9.7"
  }
 },
 "nbformat": 4,
 "nbformat_minor": 5
}
